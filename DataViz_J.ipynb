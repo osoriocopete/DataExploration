{
 "cells": [
  {
   "cell_type": "code",
   "execution_count": 1,
   "metadata": {},
   "outputs": [],
   "source": [
    "import requests\n",
    "import json\n",
    "import csv\n",
    "import pandas as pd\n",
    "import numpy as np\n",
    "# Import matplotlib.pyplot\n",
    "import matplotlib.pyplot as plt"
   ]
  },
  {
   "cell_type": "code",
   "execution_count": 2,
   "metadata": {
    "scrolled": true
   },
   "outputs": [
    {
     "name": "stdout",
     "output_type": "stream",
     "text": [
      "    Emp EmpS HirA EarnS Sep     time sex agegrp ownercode seasonadj industry  \\\n",
      "0   468  404  129  1425  94  2010-Q1   1    A02       A00         U       11   \n",
      "1  1043  993   89  3412  67  2010-Q1   1    A07       A00         U       11   \n",
      "2   135  114   63  1040  38  2010-Q1   2    A02       A00         U       11   \n",
      "3   445  409   61  2063  43  2010-Q1   2    A07       A00         U       11   \n",
      "4    91   86   10  3241   8  2010-Q1   1    A02       A00         U       21   \n",
      "\n",
      "  state  \n",
      "0    18  \n",
      "1    18  \n",
      "2    18  \n",
      "3    18  \n",
      "4    18  \n"
     ]
    }
   ],
   "source": [
    "# Data (Lina)\n",
    "my_key = 'a385feb8f8766853786d7a499a13b406e5ef1ac3' # Paste the key here\n",
    "browser = 'https://'\n",
    "url = 'api.census.gov/data/timeseries/qwi/sa?get=Emp,EmpS,HirA,EarnS,Sep&time=from 2010-Q1 to 2012-Q4&for=state:39,42,18,21,54&sex=1&sex=2&agegrp=A02&agegrp=A07&ownercode=A00&seasonadj=U&industry=11&industry=21&industry=22&industry=23&industry=42&industry=51&industry=52&industry=53&industry=54&industry=55&industry=56&key='\n",
    "api_address = browser + url + my_key\n",
    "data = requests.get(api_address).json()\n",
    "names = data[0]\n",
    "\n",
    "df = pd.DataFrame(data[1:], columns = names)\n",
    "\n",
    "# df.to_csv('data_lodes.csv') # Saved as csv\n",
    "print(df.head(5))"
   ]
  },
  {
   "cell_type": "code",
   "execution_count": 3,
   "metadata": {},
   "outputs": [],
   "source": [
    "#Subset variables to plot in a 2 dimensional dataframe\n",
    "plet = df.loc[:, [\"time\",\"Emp\"]]\n",
    "plet[\"Emp\"] = plet[\"Emp\"].astype('float')"
   ]
  },
  {
   "cell_type": "code",
   "execution_count": 4,
   "metadata": {},
   "outputs": [
    {
     "name": "stdout",
     "output_type": "stream",
     "text": [
      "              Emp\n",
      "time             \n",
      "2010-Q1  788385.0\n",
      "2010-Q2  819900.0\n",
      "2010-Q3  865219.0\n",
      "2010-Q4  853955.0\n",
      "2011-Q1  830138.0\n",
      "2011-Q2  861917.0\n",
      "2011-Q3  910440.0\n",
      "2011-Q4  900780.0\n",
      "2012-Q1  870094.0\n",
      "2012-Q2  900897.0\n",
      "2012-Q3  943369.0\n",
      "2012-Q4  929962.0\n"
     ]
    }
   ],
   "source": [
    "plet_qtr = plet.groupby([\"time\"])[[\"Emp\"]].sum()\n",
    "\n",
    "print(plet_qtr)"
   ]
  },
  {
   "cell_type": "code",
   "execution_count": 5,
   "metadata": {},
   "outputs": [
    {
     "data": {
      "text/plain": [
       "<matplotlib.axes._subplots.AxesSubplot at 0x20251db84a8>"
      ]
     },
     "execution_count": 5,
     "metadata": {},
     "output_type": "execute_result"
    },
    {
     "data": {
      "image/png": "[encoded data removed]",
      "text/plain": [
       "<Figure size 432x288 with 1 Axes>"
      ]
     },
     "metadata": {
      "needs_background": "light"
     },
     "output_type": "display_data"
    }
   ],
   "source": [
    "plet_qtr.plot.bar()"
   ]
  },
  {
   "cell_type": "code",
   "execution_count": null,
   "metadata": {},
   "outputs": [],
   "source": [
    "plet.time=pd.to_numeric(plet.time)\n",
    "plet.Emp=pd.to_numeric(plet.Emp)\n",
    "\n",
    "plet_qrt.plot.scatter(x='time',y='Emp')"
   ]
  },
  {
   "cell_type": "code",
   "execution_count": null,
   "metadata": {},
   "outputs": [],
   "source": [
    "grow = sns.load_dataset(\"plet\")\n",
    "sns.catplot(x=\"time\", y=\"Emp\", data=grow);"
   ]
  }
 ],
 "metadata": {
  "kernelspec": {
   "display_name": "Python 3",
   "language": "python",
   "name": "python3"
  },
  "language_info": {
   "codemirror_mode": {
    "name": "ipython",
    "version": 3
   },
   "file_extension": ".py",
   "mimetype": "text/x-python",
   "name": "python",
   "nbconvert_exporter": "python",
   "pygments_lexer": "ipython3",
   "version": "3.7.1"
  }
 },
 "nbformat": 4,
 "nbformat_minor": 2
}
