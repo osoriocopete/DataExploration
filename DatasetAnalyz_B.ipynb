{
 "cells": [
  {
   "cell_type": "markdown",
   "metadata": {},
   "source": [
    "# Data exploration exercise"
   ]
  },
  {
   "cell_type": "code",
   "execution_count": null,
   "metadata": {},
   "outputs": [],
   "source": [
    "#!/usr/bin/env python\n",
    "import requests\n",
    "import json\n",
    "import csv\n",
    "import pandas as pd\n",
    "import numpy as np"
   ]
  },
  {
   "cell_type": "markdown",
   "metadata": {},
   "source": [
    "Instructions: I sent you my_key to access the data from the API adress, but you can get your own key in this link if you want https://api.census.gov/data/key_signup.html. What you need to do is pasting that key within the next chunk of code.\n",
    "\n",
    "You can find variables explaination here https://www.census.gov/data/developers/data-sets/qwi.html#endpoints\n",
    "\n",
    "You should start working with the dataframe called data_lodes, I also saved it as an csv so you can import the data directly if you want instead of getting the data from the API.\n"
   ]
  },
  {
   "cell_type": "code",
   "execution_count": null,
   "metadata": {},
   "outputs": [],
   "source": [
    "# Data (Lina)\n",
    "my_key = 'a385feb8f8766853786d7a499a13b406e5ef1ac3' # Paste the key here\n",
    "browser = 'https://'\n",
    "url = 'api.census.gov/data/timeseries/qwi/sa?get=Emp,EmpS,HirA,EarnS,Sep&time=from 2010-Q1 to 2012-Q4&for=state:39,42,18,21,54&sex=1&sex=2&agegrp=A02&agegrp=A07&ownercode=A00&seasonadj=U&industry=11&industry=21&industry=22&industry=23&industry=42&industry=51&industry=52&industry=53&industry=54&industry=55&industry=56&key='\n",
    "api_address = browser + url + my_key\n",
    "data = requests.get(api_address).json()\n",
    "names = data[0]\n",
    "\n",
    "data_lodes = pd.DataFrame(data[1:], columns = names)\n",
    "\n",
    "# df.to_csv('data_lodes.csv') # Saved as csv"
   ]
  },
  {
   "cell_type": "code",
   "execution_count": null,
   "metadata": {},
   "outputs": [],
   "source": [
    "# Analyzing a dataset (Ben)\n",
    "print(data_lodes.head())\n",
    "\n",
    "# long to wide\n",
    "# Ex: number of Empl by sex, quarter, and industry\n",
    "df = data_lodes.loc[:, [\"time\",\"Emp\", \"industry\",\"sex\"]] # Subsetting\n",
    "print(df.head())\n",
    "df[\"Emp\"] = df[\"Emp\"].astype('float') # Change data type to float, so sum works well\n",
    "# sum \"Emp\" by \"sex\", \"time\" and \"industry\", and unstack \"industry\"\n",
    "df_bysex = df.groupby([ \"sex\", \"time\", \"industry\"])[[\"Emp\"]].sum().unstack(\"industry\")\n",
    "print(df_bysex.head())\n",
    "#type(df_bysex)\n",
    "print(type(df_bysex))\n",
    "#df_bySexTimeInd = df_bysex.pivot(index=\"time\", columns=\"industry\", values=\"Emp\")\n",
    "df_bySexTimeInd = df_bysex.pivot_table(index='time', columns=None, values=None)\n",
    "#print(df_bySexTimeInd)\n",
    "print(df_bySexTimeInd)\n",
    "#, columns=None, values=None)"
   ]
  },
  {
   "cell_type": "code",
   "execution_count": null,
   "metadata": {},
   "outputs": [],
   "source": [
    "#pd.wide_to_long\n",
    "\n",
    "dfLong = pd.melt(df, id_vars = [\"Emp\"])\n",
    "\n",
    "print(dfLong)\n"
   ]
  },
  {
   "cell_type": "code",
   "execution_count": null,
   "metadata": {},
   "outputs": [],
   "source": [
    "# Generating a dataframe using sql coding in Python.\n",
    "import sqlite3\n",
    "\n",
    "\n",
    "conn = sqlite3.connect('df2.db')\n",
    "\n",
    "c = conn.cursor()\n",
    "\n",
    "\n",
    "def create_table() :\n",
    "    c.execute('CREATE TABLE IF NOT EXISTS Time4Change(Year REAL, IncumbentVoteShare REAL, GDPq2ElecYr REAL, NetAPP REAL, TermInc TEXT')\n",
    "    \n",
    "def enter_data() :\n",
    "    c.execute(\"INSERT INTO Time4Change VALUES(1948, 49.6, 1856.90, 7, 'YES')\")\n",
    "    conn.commit()\n",
    "    c.close()\n",
    "    conn.close()\n",
    "\n",
    "    \n",
    "    \n",
    "create_table()\n",
    "enter_data()\n",
    "\n",
    "    "
   ]
  },
  {
   "cell_type": "code",
   "execution_count": null,
   "metadata": {},
   "outputs": [],
   "source": [
    "# Subsetting (filters)\n",
    "# Merge, append, join functions"
   ]
  },
  {
   "cell_type": "code",
   "execution_count": null,
   "metadata": {},
   "outputs": [],
   "source": [
    "# Reshape from wide to long format and vice versa"
   ]
  },
  {
   "cell_type": "code",
   "execution_count": null,
   "metadata": {},
   "outputs": [],
   "source": [
    "# Modify date formats\n",
    "\n",
    "DateTime = df.loc[: , 'time']\n",
    "\n",
    "newDates = pd.to_datetime(DateTime)\n",
    "\n",
    "print(newDates)"
   ]
  },
  {
   "cell_type": "code",
   "execution_count": null,
   "metadata": {},
   "outputs": [],
   "source": [
    "# Add new columns and rows\n",
    "df['newcol'] = 1\n",
    "\n",
    "df['newrow'] = 2\n",
    "\n",
    "del df['newrow']\n",
    "\n",
    "df"
   ]
  },
  {
   "cell_type": "code",
   "execution_count": null,
   "metadata": {},
   "outputs": [],
   "source": [
    "# Replace values within same columns"
   ]
  },
  {
   "cell_type": "code",
   "execution_count": null,
   "metadata": {},
   "outputs": [],
   "source": [
    "# Rename columns\n",
    "df\n",
    "\n",
    "dfrenamed = df.rename(columns={'Emp':'Employee'})\n",
    "\n",
    "dfrenamed"
   ]
  },
  {
   "cell_type": "code",
   "execution_count": null,
   "metadata": {},
   "outputs": [],
   "source": [
    "# Tables and main stats (Natalie)\n",
    "\n",
    "#Summary tables with main stats (max, min, mean, median, sd, percentiles)\n",
    "#Groupby, columns count\n",
    "#Elements in a column\n",
    "#Nice table features\n"
   ]
  },
  {
   "cell_type": "code",
   "execution_count": null,
   "metadata": {},
   "outputs": [],
   "source": [
    "# Dataviz (Jarod)\n",
    "\n",
    "# Histograms, categorical variables distribution\n",
    "# Seaborn charts\n",
    "# Matplotlib charts\n",
    "# Heatmaps\n",
    "# Small multiple scatterplots"
   ]
  }
 ],
 "metadata": {
  "kernelspec": {
   "display_name": "Python 3",
   "language": "python",
   "name": "python3"
  },
  "language_info": {
   "codemirror_mode": {
    "name": "ipython",
    "version": 3
   },
   "file_extension": ".py",
   "mimetype": "text/x-python",
   "name": "python",
   "nbconvert_exporter": "python",
   "pygments_lexer": "ipython3",
   "version": "3.6.5"
  }
 },
 "nbformat": 4,
 "nbformat_minor": 2
}
