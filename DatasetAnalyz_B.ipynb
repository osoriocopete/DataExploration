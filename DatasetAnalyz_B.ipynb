{
 "cells": [
  {
   "cell_type": "markdown",
   "metadata": {},
   "source": [
    "# Data exploration exercise"
   ]
  },
  {
   "cell_type": "code",
   "execution_count": null,
   "metadata": {},
   "outputs": [],
   "source": [
    "#!/usr/bin/env python\n",
    "import requests\n",
    "import json\n",
    "import csv\n",
    "import pandas as pd\n",
    "import numpy as np"
   ]
  },
  {
   "cell_type": "markdown",
   "metadata": {},
   "source": [
    "Instructions: I sent you my_key to access the data from the API adress, but you can get your own key in this link if you want https://api.census.gov/data/key_signup.html. What you need to do is pasting that key within the next chunk of code.\n",
    "\n",
    "You can find variables explaination here https://www.census.gov/data/developers/data-sets/qwi.html#endpoints\n",
    "\n",
    "You should start working with the dataframe called data_lodes, I also saved it as an csv so you can import the data directly if you want instead of getting the data from the API.\n"
   ]
  },
  {
   "cell_type": "code",
   "execution_count": 2,
   "metadata": {},
   "outputs": [],
   "source": [
    "# Data (Lina)\n",
    "my_key = 'a385feb8f8766853786d7a499a13b406e5ef1ac3' # Paste the key here\n",
    "browser = 'https://'\n",
    "url = 'api.census.gov/data/timeseries/qwi/sa?get=Emp,EmpS,HirA,EarnS,Sep&time=from 2010-Q1 to 2012-Q4&for=state:39,42,18,21,54&sex=1&sex=2&agegrp=A02&agegrp=A07&ownercode=A00&seasonadj=U&industry=11&industry=21&industry=22&industry=23&industry=42&industry=51&industry=52&industry=53&industry=54&industry=55&industry=56&key='\n",
    "api_address = browser + url + my_key\n",
    "data = requests.get(api_address).json()\n",
    "names = data[0]\n",
    "\n",
    "data_lodes = pd.DataFrame(data[1:], columns = names)\n",
    "\n",
    "# df.to_csv('data_lodes.csv') # Saved as csv"
   ]
  },
  {
   "cell_type": "code",
   "execution_count": 18,
   "metadata": {},
   "outputs": [
    {
     "name": "stdout",
     "output_type": "stream",
     "text": [
      "    Emp EmpS HirA EarnS Sep     time sex agegrp ownercode seasonadj industry  \\\n",
      "0   468  404  129  1425  94  2010-Q1   1    A02       A00         U       11   \n",
      "1  1043  993   89  3412  67  2010-Q1   1    A07       A00         U       11   \n",
      "2   135  114   63  1040  38  2010-Q1   2    A02       A00         U       11   \n",
      "3   445  409   61  2063  43  2010-Q1   2    A07       A00         U       11   \n",
      "4    91   86   10  3241   8  2010-Q1   1    A02       A00         U       21   \n",
      "\n",
      "  state  \n",
      "0    18  \n",
      "1    18  \n",
      "2    18  \n",
      "3    18  \n",
      "4    18  \n",
      "      time   Emp industry sex\n",
      "0  2010-Q1   468       11   1\n",
      "1  2010-Q1  1043       11   1\n",
      "2  2010-Q1   135       11   2\n",
      "3  2010-Q1   445       11   2\n",
      "4  2010-Q1    91       21   1\n",
      "                Emp                                                        \\\n",
      "industry         11       21       22       23       42       51       52   \n",
      "sex time                                                                    \n",
      "1   2010-Q1  6656.0  16320.0  18451.0  74415.0  86618.0  25940.0  39148.0   \n",
      "    2010-Q2  7561.0  17295.0  18771.0  80705.0  89190.0  25990.0  39201.0   \n",
      "    2010-Q3  8369.0  18155.0  18938.0  93511.0  92540.0  26881.0  40615.0   \n",
      "    2010-Q4  8485.0  18459.0  17754.0  92524.0  92816.0  25954.0  39767.0   \n",
      "    2011-Q1  6898.0  18243.0  18414.0  78618.0  91989.0  25914.0  39568.0   \n",
      "\n",
      "                                                 \n",
      "industry          53       54       55       56  \n",
      "sex time                                         \n",
      "1   2010-Q1  18673.0  62295.0  29946.0  79406.0  \n",
      "    2010-Q2  19216.0  64736.0  30740.0  86655.0  \n",
      "    2010-Q3  20939.0  66157.0  31556.0  98803.0  \n",
      "    2010-Q4  19837.0  65440.0  30465.0  97197.0  \n",
      "    2011-Q1  19136.0  66242.0  31488.0  89457.0  \n",
      "<class 'pandas.core.frame.DataFrame'>\n",
      "             Emp                                                        \\\n",
      "industry      11       21       22       23       42       51       52   \n",
      "time                                                                     \n",
      "2010-Q1   4837.5   8766.5  11597.5  44920.5  60633.0  26304.5  59436.0   \n",
      "2010-Q2   5604.5   9282.0  11822.0  48534.5  62408.0  26404.0  59474.5   \n",
      "2010-Q3   6219.0   9774.0  12013.0  55651.0  64719.0  27253.5  60554.0   \n",
      "2010-Q4   6279.0   9923.5  11252.5  54849.0  64884.5  26227.5  59809.5   \n",
      "2011-Q1   5033.5   9791.5  11658.5  47151.5  64199.0  26202.0  60125.5   \n",
      "2011-Q2   5738.5  10311.5  11933.5  51112.5  65970.5  26457.0  60077.5   \n",
      "2011-Q3   6528.5  10937.5  12502.0  59843.5  68563.0  26772.0  61065.0   \n",
      "2011-Q4   6411.5  11145.0  12284.5  59250.0  68065.5  26064.0  60174.0   \n",
      "2012-Q1   5173.0  10901.5  12291.0  52134.0  66983.0  26052.0  60543.0   \n",
      "2012-Q2   6062.0  11003.5  12279.0  55911.5  68682.5  26163.5  61902.0   \n",
      "2012-Q3   6724.5  10987.0  12831.5  62563.0  70860.0  27026.0  63940.0   \n",
      "2012-Q4   6477.0  10901.0  12906.5  61830.5  70386.0  26308.0  63215.5   \n",
      "\n",
      "                                              \n",
      "industry       53       54       55       56  \n",
      "time                                          \n",
      "2010-Q1   17162.5  61923.5  29250.5  69360.5  \n",
      "2010-Q2   17662.0  64587.5  29918.5  74252.5  \n",
      "2010-Q3   18955.0  64234.0  30656.0  82581.0  \n",
      "2010-Q4   17970.0  63626.0  29887.5  82268.5  \n",
      "2011-Q1   17336.0  65377.0  31201.5  76993.0  \n",
      "2011-Q2   17826.0  68153.5  32101.0  81277.0  \n",
      "2011-Q3   19289.0  68265.5  33480.5  87973.5  \n",
      "2011-Q4   18159.0  67202.5  33338.5  88295.5  \n",
      "2012-Q1   17480.0  66479.0  34639.5  82371.0  \n",
      "2012-Q2   18006.5  69394.5  35398.5  85645.0  \n",
      "2012-Q3   19355.0  69466.0  36673.0  91258.5  \n",
      "2012-Q4   18501.0  68343.5  35936.0  90176.0  \n"
     ]
    }
   ],
   "source": [
    "# Analyzing a dataset (Ben)\n",
    "print(data_lodes.head())\n",
    "\n",
    "# long to wide\n",
    "# Ex: number of Empl by sex, quarter, and industry\n",
    "df = data_lodes.loc[:, [\"time\",\"Emp\", \"industry\",\"sex\"]] # Subsetting\n",
    "print(df.head())\n",
    "df[\"Emp\"] = df[\"Emp\"].astype('float') # Change data type to float, so sum works well\n",
    "# sum \"Emp\" by \"sex\", \"time\" and \"industry\", and unstack \"industry\"\n",
    "df_bysex = df.groupby([ \"sex\", \"time\", \"industry\"])[[\"Emp\"]].sum().unstack(\"industry\")\n",
    "\n",
    "print(df_bysex.head())\n",
    "#type(df_bysex)\n",
    "print(type(df_bysex))\n",
    "#df_bySexTimeInd = df_bysex.pivot(index=\"time\", columns=\"industry\", values=\"Emp\")\n",
    "df_bySexTimeInd = df_bysex.pivot_table(index='time', columns=None, values=None)\n",
    "#print(df_bySexTimeInd)\n",
    "print(df_bySexTimeInd)\n",
    "#, columns=None, values=None)\n",
    "\n",
    "\n",
    "#pd.wide_to_long\n",
    "# Explore Dataset with .columns and .index\n",
    "# Generating a dataframe using sql coding in Python.\n",
    "# Subsetting (filters)\n",
    "# Merge, append, join functions\n",
    "# Reshape from wide to long format and vice versa\n",
    "# Modify date formats\n",
    "# Add new columns and rows\n",
    "# Replace values within same columns\n",
    "# Rename columns\n"
   ]
  },
  {
   "cell_type": "code",
   "execution_count": null,
   "metadata": {},
   "outputs": [],
   "source": [
    "# Tables and main stats (Natalie)\n",
    "\n",
    "#Summary tables with main stats (max, min, mean, median, sd, percentiles)\n",
    "#Groupby, columns count\n",
    "#Elements in a column\n",
    "#Nice table features\n"
   ]
  },
  {
   "cell_type": "code",
   "execution_count": null,
   "metadata": {},
   "outputs": [],
   "source": [
    "# Dataviz (Jarod)\n",
    "\n",
    "# Histograms, categorical variables distribution\n",
    "# Seaborn charts\n",
    "# Matplotlib charts\n",
    "# Heatmaps\n",
    "# Small multiple scatterplots"
   ]
  }
 ],
 "metadata": {
  "kernelspec": {
   "display_name": "Python 3",
   "language": "python",
   "name": "python3"
  },
  "language_info": {
   "codemirror_mode": {
    "name": "ipython",
    "version": 3
   },
   "file_extension": ".py",
   "mimetype": "text/x-python",
   "name": "python",
   "nbconvert_exporter": "python",
   "pygments_lexer": "ipython3",
   "version": "3.6.5"
  }
 },
 "nbformat": 4,
 "nbformat_minor": 2
}
