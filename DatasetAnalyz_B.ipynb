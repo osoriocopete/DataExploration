{
 "cells": [
  {
   "cell_type": "markdown",
   "metadata": {},
   "source": [
    "# Data exploration exercise"
   ]
  },
  {
   "cell_type": "code",
   "execution_count": 1,
   "metadata": {},
   "outputs": [],
   "source": [
    "#!/usr/bin/env python\n",
    "import requests\n",
    "import json\n",
    "import csv\n",
    "import pandas as pd\n",
    "import numpy as np"
   ]
  },
  {
   "cell_type": "markdown",
   "metadata": {},
   "source": [
    "Instructions: I sent you my_key to access the data from the API adress, but you can get your own key in this link if you want https://api.census.gov/data/key_signup.html. What you need to do is pasting that key within the next chunk of code.\n",
    "\n",
    "You can find variables explaination here https://www.census.gov/data/developers/data-sets/qwi.html#endpoints\n",
    "\n",
    "You should start working with the dataframe called data_lodes, I also saved it as an csv so you can import the data directly if you want instead of getting the data from the API.\n"
   ]
  },
  {
   "cell_type": "code",
   "execution_count": 2,
   "metadata": {},
   "outputs": [],
   "source": [
    "# Data (Lina)\n",
    "my_key = 'a385feb8f8766853786d7a499a13b406e5ef1ac3' # Paste the key here\n",
    "browser = 'https://'\n",
    "url = 'api.census.gov/data/timeseries/qwi/sa?get=Emp,EmpS,HirA,EarnS,Sep&time=from 2010-Q1 to 2012-Q4&for=state:39,42,18,21,54&sex=1&sex=2&agegrp=A02&agegrp=A07&ownercode=A00&seasonadj=U&industry=11&industry=21&industry=22&industry=23&industry=42&industry=51&industry=52&industry=53&industry=54&industry=55&industry=56&key='\n",
    "api_address = browser + url + my_key\n",
    "data = requests.get(api_address).json()\n",
    "names = data[0]\n",
    "\n",
    "data_lodes = pd.DataFrame(data[1:], columns = names)\n",
    "\n",
    "# df.to_csv('data_lodes.csv') # Saved as csv"
   ]
  },
  {
   "cell_type": "code",
   "execution_count": 27,
   "metadata": {},
   "outputs": [
    {
     "name": "stdout",
     "output_type": "stream",
     "text": [
      "    Emp EmpS HirA EarnS Sep     time sex agegrp ownercode seasonadj industry  \\\n",
      "0   468  404  129  1425  94  2010-Q1   1    A02       A00         U       11   \n",
      "1  1043  993   89  3412  67  2010-Q1   1    A07       A00         U       11   \n",
      "2   135  114   63  1040  38  2010-Q1   2    A02       A00         U       11   \n",
      "3   445  409   61  2063  43  2010-Q1   2    A07       A00         U       11   \n",
      "4    91   86   10  3241   8  2010-Q1   1    A02       A00         U       21   \n",
      "\n",
      "  state  \n",
      "0    18  \n",
      "1    18  \n",
      "2    18  \n",
      "3    18  \n",
      "4    18  \n",
      "      time   Emp industry sex\n",
      "0  2010-Q1   468       11   1\n",
      "1  2010-Q1  1043       11   1\n",
      "2  2010-Q1   135       11   2\n",
      "3  2010-Q1   445       11   2\n",
      "4  2010-Q1    91       21   1\n",
      "                Emp                                                        \\\n",
      "industry         11       21       22       23       42       51       52   \n",
      "sex time                                                                    \n",
      "1   2010-Q1  6656.0  16320.0  18451.0  74415.0  86618.0  25940.0  39148.0   \n",
      "    2010-Q2  7561.0  17295.0  18771.0  80705.0  89190.0  25990.0  39201.0   \n",
      "    2010-Q3  8369.0  18155.0  18938.0  93511.0  92540.0  26881.0  40615.0   \n",
      "    2010-Q4  8485.0  18459.0  17754.0  92524.0  92816.0  25954.0  39767.0   \n",
      "    2011-Q1  6898.0  18243.0  18414.0  78618.0  91989.0  25914.0  39568.0   \n",
      "\n",
      "                                                 \n",
      "industry          53       54       55       56  \n",
      "sex time                                         \n",
      "1   2010-Q1  18673.0  62295.0  29946.0  79406.0  \n",
      "    2010-Q2  19216.0  64736.0  30740.0  86655.0  \n",
      "    2010-Q3  20939.0  66157.0  31556.0  98803.0  \n",
      "    2010-Q4  19837.0  65440.0  30465.0  97197.0  \n",
      "    2011-Q1  19136.0  66242.0  31488.0  89457.0  \n"
     ]
    }
   ],
   "source": [
    "# Analyzing a dataset (Ben)\n",
    "print(data_lodes.head())\n",
    "\n",
    "# long to wide\n",
    "# Ex: number of Empl by sex, quarter, and industry\n",
    "df = data_lodes.loc[:, [\"time\",\"Emp\", \"industry\",\"sex\"]] # Subsetting\n",
    "print(df.head())\n",
    "df[\"Emp\"] = df[\"Emp\"].astype('float') # Change data type to float, so sum works well\n",
    "# sum \"Emp\" by \"sex\", \"time\" and \"industry\", and unstack \"industry\"\n",
    "df_bysex = df.groupby([ \"sex\", \"time\", \"industry\"])[[\"Emp\"]].sum().unstack(\"industry\")\n",
    "\n",
    "print(df_bysex.head())\n",
    "#type(df_bysex)\n",
    "#df_bySexTimeInd = df_bysex.pivot(index=\"time\", columns=\"industry\", values=\"Emp\")\n",
    "#print(df_bySexTimeInd)\n",
    "#, columns=None, values=None)\n",
    "\n",
    "\n",
    "#pd.wide_to_long\n",
    "# Generating a dataframe using sql coding in Python.\n",
    "# Subsetting (filters)\n",
    "# Merge, append, join functions\n",
    "# Reshape from wide to long format and vice versa\n",
    "# Modify date formats\n",
    "# Add new columns and rows\n",
    "# Replace values within same columns\n",
    "# Rename columns\n"
   ]
  },
  {
   "cell_type": "code",
   "execution_count": null,
   "metadata": {},
   "outputs": [],
   "source": [
    "# Tables and main stats (Natalie)\n",
    "\n",
    "#Summary tables with main stats (max, min, mean, median, sd, percentiles)\n",
    "#Groupby, columns count\n",
    "#Elements in a column\n",
    "#Nice table features\n"
   ]
  },
  {
   "cell_type": "code",
   "execution_count": null,
   "metadata": {},
   "outputs": [],
   "source": [
    "# Dataviz (Jarod)\n",
    "\n",
    "# Histograms, categorical variables distribution\n",
    "# Seaborn charts\n",
    "# Matplotlib charts\n",
    "# Heatmaps\n",
    "# Small multiple scatterplots"
   ]
  }
 ],
 "metadata": {
  "kernelspec": {
   "display_name": "Python 3",
   "language": "python",
   "name": "python3"
  },
  "language_info": {
   "codemirror_mode": {
    "name": "ipython",
    "version": 3
   },
   "file_extension": ".py",
   "mimetype": "text/x-python",
   "name": "python",
   "nbconvert_exporter": "python",
   "pygments_lexer": "ipython3",
   "version": "3.7.1"
  }
 },
 "nbformat": 4,
 "nbformat_minor": 2
}
