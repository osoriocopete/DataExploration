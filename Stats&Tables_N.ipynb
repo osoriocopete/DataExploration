{
 "cells": [
  {
   "cell_type": "markdown",
   "metadata": {},
   "source": [
    "# Data exploration exercise"
   ]
  },
  {
   "cell_type": "code",
   "execution_count": 1,
   "metadata": {},
   "outputs": [],
   "source": [
    "#!/usr/bin/env python\n",
    "import requests\n",
    "import json\n",
    "import csv\n",
    "import pandas as pd\n",
    "import numpy as np"
   ]
  },
  {
   "cell_type": "markdown",
   "metadata": {},
   "source": [
    "Instructions: I sent you my_key to access the data from the API adress, but you can get your own key in this link if you want https://api.census.gov/data/key_signup.html. What you need to do is pasting that key within the next chunk of code.\n",
    "\n",
    "You can find variables explaination here https://www.census.gov/data/developers/data-sets/qwi.html#endpoints\n",
    "\n",
    "You should start working with the dataframe called data_lodes, I also saved it as an csv so you can import the data directly if you want instead of getting the data from the API.\n"
   ]
  },
  {
   "cell_type": "code",
   "execution_count": 2,
   "metadata": {},
   "outputs": [],
   "source": [
    "# Data (Lina)\n",
    "my_key = 'a385feb8f8766853786d7a499a13b406e5ef1ac3' # Paste the key here\n",
    "browser = 'https://'\n",
    "url = 'api.census.gov/data/timeseries/qwi/sa?get=Emp,EmpS,HirA,EarnS,Sep&time=from 2010-Q1 to 2012-Q4&for=state:39,42,18,21,54&sex=1&sex=2&agegrp=A02&agegrp=A07&ownercode=A00&seasonadj=U&industry=11&industry=21&industry=22&industry=23&industry=42&industry=51&industry=52&industry=53&industry=54&industry=55&industry=56&key='\n",
    "api_address = browser + url + my_key\n",
    "data = requests.get(api_address).json()\n",
    "names = data[0]\n",
    "\n",
    "data_lodes = pd.DataFrame(data[1:], columns = names)\n",
    "\n",
    "# df.to_csv('data_lodes.csv') # Saved as csv"
   ]
  },
  {
   "cell_type": "code",
   "execution_count": 3,
   "metadata": {},
   "outputs": [],
   "source": [
    "# Analyzing a dataset (Ben)\n",
    "\n",
    "# Generating a dataframe using sql coding in Python.\n",
    "# Subsetting (filters)\n",
    "# Merge, append, join functions\n",
    "# Reshape from wide to long format and vice versa\n",
    "# Modify date formats\n",
    "# Add new columns and rows\n",
    "# Replace values within same columns\n",
    "# Rename columns\n"
   ]
  },
  {
   "cell_type": "markdown",
   "metadata": {},
   "source": [
    "### Tables and main stats (Natalie)"
   ]
  },
  {
   "cell_type": "code",
   "execution_count": 4,
   "metadata": {},
   "outputs": [
    {
     "data": {
      "text/plain": [
       "pandas.core.frame.DataFrame"
      ]
     },
     "execution_count": 4,
     "metadata": {},
     "output_type": "execute_result"
    }
   ],
   "source": [
    "# How to check data type\n",
    "type(data_lodes)"
   ]
  },
  {
   "cell_type": "code",
   "execution_count": 5,
   "metadata": {},
   "outputs": [
    {
     "data": {
      "text/plain": [
       "(2640, 12)"
      ]
     },
     "execution_count": 5,
     "metadata": {},
     "output_type": "execute_result"
    }
   ],
   "source": [
    "# DataFrame size\n",
    "data_lodes.shape"
   ]
  },
  {
   "cell_type": "code",
   "execution_count": 6,
   "metadata": {},
   "outputs": [
    {
     "data": {
      "text/plain": [
       "Index(['Emp', 'EmpS', 'HirA', 'EarnS', 'Sep', 'time', 'sex', 'agegrp',\n",
       "       'ownercode', 'seasonadj', 'industry', 'state'],\n",
       "      dtype='object')"
      ]
     },
     "execution_count": 6,
     "metadata": {},
     "output_type": "execute_result"
    }
   ],
   "source": [
    "# Columns' names\n",
    "data_lodes.columns"
   ]
  },
  {
   "cell_type": "code",
   "execution_count": 7,
   "metadata": {},
   "outputs": [
    {
     "data": {
      "text/html": [
       "<div>\n",
       "<style scoped>\n",
       "    .dataframe tbody tr th:only-of-type {\n",
       "        vertical-align: middle;\n",
       "    }\n",
       "\n",
       "    .dataframe tbody tr th {\n",
       "        vertical-align: top;\n",
       "    }\n",
       "\n",
       "    .dataframe thead th {\n",
       "        text-align: right;\n",
       "    }\n",
       "</style>\n",
       "<table border=\"1\" class=\"dataframe\">\n",
       "  <thead>\n",
       "    <tr style=\"text-align: right;\">\n",
       "      <th></th>\n",
       "      <th>Emp</th>\n",
       "      <th>EmpS</th>\n",
       "      <th>HirA</th>\n",
       "      <th>EarnS</th>\n",
       "      <th>Sep</th>\n",
       "      <th>time</th>\n",
       "      <th>sex</th>\n",
       "      <th>agegrp</th>\n",
       "      <th>ownercode</th>\n",
       "      <th>seasonadj</th>\n",
       "      <th>industry</th>\n",
       "      <th>state</th>\n",
       "    </tr>\n",
       "  </thead>\n",
       "  <tbody>\n",
       "    <tr>\n",
       "      <th>0</th>\n",
       "      <td>468</td>\n",
       "      <td>404</td>\n",
       "      <td>129</td>\n",
       "      <td>1425</td>\n",
       "      <td>94</td>\n",
       "      <td>2010-Q1</td>\n",
       "      <td>1</td>\n",
       "      <td>A02</td>\n",
       "      <td>A00</td>\n",
       "      <td>U</td>\n",
       "      <td>11</td>\n",
       "      <td>18</td>\n",
       "    </tr>\n",
       "    <tr>\n",
       "      <th>1</th>\n",
       "      <td>1043</td>\n",
       "      <td>993</td>\n",
       "      <td>89</td>\n",
       "      <td>3412</td>\n",
       "      <td>67</td>\n",
       "      <td>2010-Q1</td>\n",
       "      <td>1</td>\n",
       "      <td>A07</td>\n",
       "      <td>A00</td>\n",
       "      <td>U</td>\n",
       "      <td>11</td>\n",
       "      <td>18</td>\n",
       "    </tr>\n",
       "    <tr>\n",
       "      <th>2</th>\n",
       "      <td>135</td>\n",
       "      <td>114</td>\n",
       "      <td>63</td>\n",
       "      <td>1040</td>\n",
       "      <td>38</td>\n",
       "      <td>2010-Q1</td>\n",
       "      <td>2</td>\n",
       "      <td>A02</td>\n",
       "      <td>A00</td>\n",
       "      <td>U</td>\n",
       "      <td>11</td>\n",
       "      <td>18</td>\n",
       "    </tr>\n",
       "    <tr>\n",
       "      <th>3</th>\n",
       "      <td>445</td>\n",
       "      <td>409</td>\n",
       "      <td>61</td>\n",
       "      <td>2063</td>\n",
       "      <td>43</td>\n",
       "      <td>2010-Q1</td>\n",
       "      <td>2</td>\n",
       "      <td>A07</td>\n",
       "      <td>A00</td>\n",
       "      <td>U</td>\n",
       "      <td>11</td>\n",
       "      <td>18</td>\n",
       "    </tr>\n",
       "    <tr>\n",
       "      <th>4</th>\n",
       "      <td>91</td>\n",
       "      <td>86</td>\n",
       "      <td>10</td>\n",
       "      <td>3241</td>\n",
       "      <td>8</td>\n",
       "      <td>2010-Q1</td>\n",
       "      <td>1</td>\n",
       "      <td>A02</td>\n",
       "      <td>A00</td>\n",
       "      <td>U</td>\n",
       "      <td>21</td>\n",
       "      <td>18</td>\n",
       "    </tr>\n",
       "  </tbody>\n",
       "</table>\n",
       "</div>"
      ],
      "text/plain": [
       "    Emp EmpS HirA EarnS Sep     time sex agegrp ownercode seasonadj industry  \\\n",
       "0   468  404  129  1425  94  2010-Q1   1    A02       A00         U       11   \n",
       "1  1043  993   89  3412  67  2010-Q1   1    A07       A00         U       11   \n",
       "2   135  114   63  1040  38  2010-Q1   2    A02       A00         U       11   \n",
       "3   445  409   61  2063  43  2010-Q1   2    A07       A00         U       11   \n",
       "4    91   86   10  3241   8  2010-Q1   1    A02       A00         U       21   \n",
       "\n",
       "  state  \n",
       "0    18  \n",
       "1    18  \n",
       "2    18  \n",
       "3    18  \n",
       "4    18  "
      ]
     },
     "execution_count": 7,
     "metadata": {},
     "output_type": "execute_result"
    }
   ],
   "source": [
    "# Default 5 first columns\n",
    "data_lodes.head()"
   ]
  },
  {
   "cell_type": "code",
   "execution_count": 8,
   "metadata": {},
   "outputs": [
    {
     "data": {
      "text/html": [
       "<div>\n",
       "<style scoped>\n",
       "    .dataframe tbody tr th:only-of-type {\n",
       "        vertical-align: middle;\n",
       "    }\n",
       "\n",
       "    .dataframe tbody tr th {\n",
       "        vertical-align: top;\n",
       "    }\n",
       "\n",
       "    .dataframe thead th {\n",
       "        text-align: right;\n",
       "    }\n",
       "</style>\n",
       "<table border=\"1\" class=\"dataframe\">\n",
       "  <thead>\n",
       "    <tr style=\"text-align: right;\">\n",
       "      <th></th>\n",
       "      <th>Emp</th>\n",
       "      <th>EmpS</th>\n",
       "      <th>HirA</th>\n",
       "      <th>EarnS</th>\n",
       "      <th>Sep</th>\n",
       "      <th>time</th>\n",
       "      <th>sex</th>\n",
       "      <th>agegrp</th>\n",
       "      <th>ownercode</th>\n",
       "      <th>seasonadj</th>\n",
       "      <th>industry</th>\n",
       "      <th>state</th>\n",
       "    </tr>\n",
       "  </thead>\n",
       "  <tbody>\n",
       "    <tr>\n",
       "      <th>2635</th>\n",
       "      <td>12641</td>\n",
       "      <td>12124</td>\n",
       "      <td>402</td>\n",
       "      <td>5033</td>\n",
       "      <td>647</td>\n",
       "      <td>2012-Q4</td>\n",
       "      <td>2</td>\n",
       "      <td>A07</td>\n",
       "      <td>A00</td>\n",
       "      <td>U</td>\n",
       "      <td>55</td>\n",
       "      <td>39</td>\n",
       "    </tr>\n",
       "    <tr>\n",
       "      <th>2636</th>\n",
       "      <td>13267</td>\n",
       "      <td>7226</td>\n",
       "      <td>11472</td>\n",
       "      <td>1450</td>\n",
       "      <td>12646</td>\n",
       "      <td>2012-Q4</td>\n",
       "      <td>1</td>\n",
       "      <td>A02</td>\n",
       "      <td>A00</td>\n",
       "      <td>U</td>\n",
       "      <td>56</td>\n",
       "      <td>39</td>\n",
       "    </tr>\n",
       "    <tr>\n",
       "      <th>2637</th>\n",
       "      <td>23155</td>\n",
       "      <td>19035</td>\n",
       "      <td>5210</td>\n",
       "      <td>4526</td>\n",
       "      <td>6410</td>\n",
       "      <td>2012-Q4</td>\n",
       "      <td>1</td>\n",
       "      <td>A07</td>\n",
       "      <td>A00</td>\n",
       "      <td>U</td>\n",
       "      <td>56</td>\n",
       "      <td>39</td>\n",
       "    </tr>\n",
       "    <tr>\n",
       "      <th>2638</th>\n",
       "      <td>7497</td>\n",
       "      <td>4339</td>\n",
       "      <td>7552</td>\n",
       "      <td>1241</td>\n",
       "      <td>7588</td>\n",
       "      <td>2012-Q4</td>\n",
       "      <td>2</td>\n",
       "      <td>A02</td>\n",
       "      <td>A00</td>\n",
       "      <td>U</td>\n",
       "      <td>56</td>\n",
       "      <td>39</td>\n",
       "    </tr>\n",
       "    <tr>\n",
       "      <th>2639</th>\n",
       "      <td>18558</td>\n",
       "      <td>15840</td>\n",
       "      <td>4184</td>\n",
       "      <td>2527</td>\n",
       "      <td>4659</td>\n",
       "      <td>2012-Q4</td>\n",
       "      <td>2</td>\n",
       "      <td>A07</td>\n",
       "      <td>A00</td>\n",
       "      <td>U</td>\n",
       "      <td>56</td>\n",
       "      <td>39</td>\n",
       "    </tr>\n",
       "  </tbody>\n",
       "</table>\n",
       "</div>"
      ],
      "text/plain": [
       "        Emp   EmpS   HirA EarnS    Sep     time sex agegrp ownercode  \\\n",
       "2635  12641  12124    402  5033    647  2012-Q4   2    A07       A00   \n",
       "2636  13267   7226  11472  1450  12646  2012-Q4   1    A02       A00   \n",
       "2637  23155  19035   5210  4526   6410  2012-Q4   1    A07       A00   \n",
       "2638   7497   4339   7552  1241   7588  2012-Q4   2    A02       A00   \n",
       "2639  18558  15840   4184  2527   4659  2012-Q4   2    A07       A00   \n",
       "\n",
       "     seasonadj industry state  \n",
       "2635         U       55    39  \n",
       "2636         U       56    39  \n",
       "2637         U       56    39  \n",
       "2638         U       56    39  \n",
       "2639         U       56    39  "
      ]
     },
     "execution_count": 8,
     "metadata": {},
     "output_type": "execute_result"
    }
   ],
   "source": [
    "# default last 5 columns\n",
    "data_lodes.tail()"
   ]
  },
  {
   "cell_type": "code",
   "execution_count": 9,
   "metadata": {},
   "outputs": [
    {
     "data": {
      "text/html": [
       "<div>\n",
       "<style scoped>\n",
       "    .dataframe tbody tr th:only-of-type {\n",
       "        vertical-align: middle;\n",
       "    }\n",
       "\n",
       "    .dataframe tbody tr th {\n",
       "        vertical-align: top;\n",
       "    }\n",
       "\n",
       "    .dataframe thead th {\n",
       "        text-align: right;\n",
       "    }\n",
       "</style>\n",
       "<table border=\"1\" class=\"dataframe\">\n",
       "  <thead>\n",
       "    <tr style=\"text-align: right;\">\n",
       "      <th></th>\n",
       "      <th>Emp</th>\n",
       "      <th>EmpS</th>\n",
       "      <th>HirA</th>\n",
       "      <th>EarnS</th>\n",
       "      <th>Sep</th>\n",
       "      <th>time</th>\n",
       "      <th>sex</th>\n",
       "      <th>agegrp</th>\n",
       "      <th>ownercode</th>\n",
       "      <th>seasonadj</th>\n",
       "      <th>industry</th>\n",
       "      <th>state</th>\n",
       "    </tr>\n",
       "  </thead>\n",
       "  <tbody>\n",
       "    <tr>\n",
       "      <th>count</th>\n",
       "      <td>2640</td>\n",
       "      <td>2640</td>\n",
       "      <td>2619</td>\n",
       "      <td>2640</td>\n",
       "      <td>2624</td>\n",
       "      <td>2640</td>\n",
       "      <td>2640</td>\n",
       "      <td>2640</td>\n",
       "      <td>2640</td>\n",
       "      <td>2640</td>\n",
       "      <td>2640</td>\n",
       "      <td>2640</td>\n",
       "    </tr>\n",
       "    <tr>\n",
       "      <th>unique</th>\n",
       "      <td>2018</td>\n",
       "      <td>1893</td>\n",
       "      <td>1163</td>\n",
       "      <td>2023</td>\n",
       "      <td>1161</td>\n",
       "      <td>12</td>\n",
       "      <td>2</td>\n",
       "      <td>2</td>\n",
       "      <td>1</td>\n",
       "      <td>1</td>\n",
       "      <td>11</td>\n",
       "      <td>5</td>\n",
       "    </tr>\n",
       "    <tr>\n",
       "      <th>top</th>\n",
       "      <td>6</td>\n",
       "      <td>4</td>\n",
       "      <td>17</td>\n",
       "      <td>1198</td>\n",
       "      <td>5</td>\n",
       "      <td>2012-Q1</td>\n",
       "      <td>1</td>\n",
       "      <td>A02</td>\n",
       "      <td>A00</td>\n",
       "      <td>U</td>\n",
       "      <td>53</td>\n",
       "      <td>18</td>\n",
       "    </tr>\n",
       "    <tr>\n",
       "      <th>freq</th>\n",
       "      <td>7</td>\n",
       "      <td>11</td>\n",
       "      <td>17</td>\n",
       "      <td>6</td>\n",
       "      <td>17</td>\n",
       "      <td>220</td>\n",
       "      <td>1320</td>\n",
       "      <td>1320</td>\n",
       "      <td>2640</td>\n",
       "      <td>2640</td>\n",
       "      <td>240</td>\n",
       "      <td>528</td>\n",
       "    </tr>\n",
       "  </tbody>\n",
       "</table>\n",
       "</div>"
      ],
      "text/plain": [
       "         Emp  EmpS  HirA EarnS   Sep     time   sex agegrp ownercode  \\\n",
       "count   2640  2640  2619  2640  2624     2640  2640   2640      2640   \n",
       "unique  2018  1893  1163  2023  1161       12     2      2         1   \n",
       "top        6     4    17  1198     5  2012-Q1     1    A02       A00   \n",
       "freq       7    11    17     6    17      220  1320   1320      2640   \n",
       "\n",
       "       seasonadj industry state  \n",
       "count       2640     2640  2640  \n",
       "unique         1       11     5  \n",
       "top            U       53    18  \n",
       "freq        2640      240   528  "
      ]
     },
     "execution_count": 9,
     "metadata": {},
     "output_type": "execute_result"
    }
   ],
   "source": [
    "# count, mean, std, min, max as well as lower, 50 and upper percentiles\n",
    "pd.DataFrame.describe(data_lodes)\n",
    "data_lodes.describe()\n",
    "#Natalie notice that both code lines show the same output"
   ]
  },
  {
   "cell_type": "code",
   "execution_count": 15,
   "metadata": {},
   "outputs": [
    {
     "name": "stdout",
     "output_type": "stream",
     "text": [
      "           Emp\n",
      "sex           \n",
      "1    6223259.0\n",
      "2    4251797.0\n"
     ]
    }
   ],
   "source": [
    "# Groupby\n",
    "# Natalie your code was pd.df.groupby(‘col name’) Notice that you need to specify which column are\n",
    "# you grouping by\n",
    "\n",
    "# Ex: Group by of number of \"Emp\" by sex\n",
    "# Convert \"Emp\" in float type\n",
    "type(data_lodes.Emp)\n",
    "data_lodes[\"Emp\"] = data_lodes[\"Emp\"].astype('float')\n",
    "\n",
    "Emp_bysex = data_lodes.groupby(by=\"sex\")[[\"Emp\"]].sum()\n",
    "print(Emp_bysex)"
   ]
  },
  {
   "cell_type": "code",
   "execution_count": 11,
   "metadata": {},
   "outputs": [],
   "source": [
    "# Nice table\n",
    "#pivot_tables within Pandas might be useful\n"
   ]
  },
  {
   "cell_type": "code",
   "execution_count": 12,
   "metadata": {},
   "outputs": [
    {
     "name": "stdout",
     "output_type": "stream",
     "text": [
      "1     11\n",
      "9     22\n",
      "12    23\n",
      "13    23\n",
      "15    23\n",
      "Name: industry, dtype: object\n",
      "   industry\n",
      "0        11\n",
      "1        21\n",
      "2        22\n",
      "3        23\n",
      "4        42\n",
      "5        51\n",
      "6        52\n",
      "7        53\n",
      "8        54\n",
      "9        55\n",
      "10       56\n"
     ]
    }
   ],
   "source": [
    "# Select industries with more than 1000 \"Emp\" in any quarter\n",
    "Industry = data_lodes.industry[data_lodes.Emp>1000]\n",
    "print(Industry.head())\n",
    "# List of unique industries with more than 1000 in any quarter\n",
    "Industry_more1000Emp = {'industry': data_lodes.industry.unique()}\n",
    "Industry_more1000Emp = pd.DataFrame(data=Industry_more1000Emp)\n",
    "print(Industry_more1000Emp)"
   ]
  },
  {
   "cell_type": "code",
   "execution_count": 13,
   "metadata": {},
   "outputs": [
    {
     "name": "stdout",
     "output_type": "stream",
     "text": [
      "Emp          float64\n",
      "EmpS          object\n",
      "HirA          object\n",
      "EarnS         object\n",
      "Sep           object\n",
      "time          object\n",
      "sex           object\n",
      "agegrp        object\n",
      "ownercode     object\n",
      "seasonadj     object\n",
      "industry      object\n",
      "state         object\n",
      "dtype: object\n",
      "      Emp\n",
      "0   468.0\n",
      "1  1043.0\n",
      "2   135.0\n",
      "3   445.0\n",
      "4    91.0\n",
      "  EmpS HirA EarnS Sep     time sex agegrp ownercode seasonadj industry state\n",
      "0  404  129  1425  94  2010-Q1   1    A02       A00         U       11    18\n",
      "1  993   89  3412  67  2010-Q1   1    A07       A00         U       11    18\n",
      "2  114   63  1040  38  2010-Q1   2    A02       A00         U       11    18\n",
      "3  409   61  2063  43  2010-Q1   2    A07       A00         U       11    18\n",
      "4   86   10  3241   8  2010-Q1   1    A02       A00         U       21    18\n"
     ]
    }
   ],
   "source": [
    "# Select particular columns in a dataframe by types\n",
    "# types by column\n",
    "print(data_lodes.dtypes)\n",
    "print(data_lodes.select_dtypes(include='float').head())\n",
    "print(data_lodes.select_dtypes(include='object').head())"
   ]
  },
  {
   "cell_type": "code",
   "execution_count": 14,
   "metadata": {},
   "outputs": [],
   "source": [
    "# Dataviz (Jarod)\n",
    "\n",
    "# Histograms, categorical variables distribution\n",
    "# Seaborn charts\n",
    "# Matplotlib charts\n",
    "# Heatmaps\n",
    "# Small multiple scatterplots"
   ]
  }
 ],
 "metadata": {
  "kernelspec": {
   "display_name": "Python 3",
   "language": "python",
   "name": "python3"
  },
  "language_info": {
   "codemirror_mode": {
    "name": "ipython",
    "version": 3
   },
   "file_extension": ".py",
   "mimetype": "text/x-python",
   "name": "python",
   "nbconvert_exporter": "python",
   "pygments_lexer": "ipython3",
   "version": "3.7.1"
  }
 },
 "nbformat": 4,
 "nbformat_minor": 2
}
