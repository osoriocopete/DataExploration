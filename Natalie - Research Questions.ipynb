{
 "cells": [
  {
   "cell_type": "markdown",
   "metadata": {},
   "source": [
    "Goal of student assistants is to have a central guiding notebook to help people pull data and merge. "
   ]
  },
  {
   "cell_type": "code",
   "execution_count": null,
   "metadata": {},
   "outputs": [],
   "source": [
    "pwd"
   ]
  },
  {
   "cell_type": "markdown",
   "metadata": {},
   "source": [
    "# Question 1: What are the education levels and employment histories of OHFA tenants? How do these vary by age group and gender?"
   ]
  },
  {
   "cell_type": "markdown",
   "metadata": {},
   "source": [
    "#### Main Dataset: OHFA Tenant\n",
    "Variables: Psuedo ID, Birth Year, Gender, File year, Certified year, Zip code, City, Building Unit Psuedo ID\n",
    "    \n",
    "For education level, use Psuedo ID to merge dataset with HEI, OTC, and Aspire/ABLE \n",
    "    \n",
    "For employment histories, use Psuedo ID to merge dataset with UI Wage\n",
    "    \n",
    "To compare by age group and gender, subset original dataset based on age groups, then by gender. Merge files and repeat analysis. "
   ]
  },
  {
   "cell_type": "markdown",
   "metadata": {},
   "source": [
    "#### Visualizations:\n",
    "-Histogram of edu level\n",
    "-Histogram and summary stat for years of employment \n",
    "\n",
    "Repeat for subsets"
   ]
  },
  {
   "cell_type": "code",
   "execution_count": null,
   "metadata": {},
   "outputs": [],
   "source": [
    "# code to merge in python\n",
    "\n",
    "import pandas as pd\n",
    "import numpy as np\n",
    "\n",
    "df3 = pd.merge(df1, df2) #this should merge the datasets by Psuedo ID, so long as there are no other overlapping columns\n",
    "\n",
    "#in the case there are multiple repeat columns, use:\n",
    "\n",
    "df3 = pd.merge(df1, df2, on = \"key column\")\n",
    "\n",
    "#Say the two columns have different names in each file. Try:\n",
    "\n",
    "df3 = pd.merge(df1, df2, left_on = \"key column 1\", right_on = \"key column 2\")\n",
    "\n",
    "\n",
    "\n",
    "#https://jakevdp.github.io/PythonDataScienceHandbook/03.07-merge-and-join.html"
   ]
  },
  {
   "cell_type": "markdown",
   "metadata": {},
   "source": [
    "# Question 2: How do earnings vary across demographic groups? What factors may explain these differences?"
   ]
  },
  {
   "cell_type": "markdown",
   "metadata": {},
   "source": [
    "#### Main Dataset: UI Wages\n",
    "Variables: Year, Quarter, Total number of employers, Total earnings, Max # of weeks worked for one employer, Employer Psuedo ID, Inudstry, Earnings, Number of Weeks Worked\n",
    "\n",
    "With orginal dataset, compare earnings by industry, max # of weeks worked for specific quarter\n",
    "\n",
    "Will likely require subsetting by specific year or quarter. Depending on data, may need to sum quarter columns to get year totals.\n",
    "\n",
    "To compare demographic groups, the dataset must be merged with at least one other. Multiple may be required. Some contenders include HEI, OTC, and Aspire/ABLE. \n",
    "\n",
    "Analyze differences to generate explainations. "
   ]
  },
  {
   "cell_type": "markdown",
   "metadata": {},
   "source": [
    "#### Visualizations: \n",
    "-Histogram and summary stats of earning by demographic group\n",
    "-Histogram of edu by demographic group"
   ]
  },
  {
   "cell_type": "markdown",
   "metadata": {},
   "source": [
    "# Question 3: What factors predict on-time graduation from college?"
   ]
  },
  {
   "cell_type": "markdown",
   "metadata": {},
   "source": [
    "#### Main Dataset: HEI\n",
    "\n",
    "For this question, I need to see the dataset to understand what actions need to be taken. Will there be a specific column for on-time graduation or will it need to be calculated? \n",
    "\n"
   ]
  }
 ],
 "metadata": {
  "kernelspec": {
   "display_name": "Python 3",
   "language": "python",
   "name": "python3"
  },
  "language_info": {
   "codemirror_mode": {
    "name": "ipython",
    "version": 3
   },
   "file_extension": ".py",
   "mimetype": "text/x-python",
   "name": "python",
   "nbconvert_exporter": "python",
   "pygments_lexer": "ipython3",
   "version": "3.7.1"
  }
 },
 "nbformat": 4,
 "nbformat_minor": 2
}
